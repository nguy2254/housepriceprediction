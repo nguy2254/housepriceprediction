{
 "cells": [
  {
   "cell_type": "code",
   "execution_count": 1,
   "metadata": {},
   "outputs": [],
   "source": [
    "# import libraries\n",
    "import urllib.request\n",
    "from bs4 import BeautifulSoup\n",
    "from selenium import webdriver\n",
    "import time\n",
    "import pandas as pd"
   ]
  },
  {
   "cell_type": "code",
   "execution_count": null,
   "metadata": {},
   "outputs": [
    {
     "name": "stdout",
     "output_type": "stream",
     "text": [
      "https://www.realestate.co.nz/residential/sale?by=featured&lct=r35&ql=20\n"
     ]
    }
   ],
   "source": [
    "# specify the url\n",
    "urlpage = 'https://www.realestate.co.nz/residential/sale?by=featured&lct=r35&ql=20' \n",
    "print(urlpage)\n",
    "# run firefox webdriver from executable path of your choice\n",
    "driver = webdriver.Chrome(executable_path = 'C:\\\\Users\\\\User\\\\Desktop\\\\Quyen Nguyen\\\\Software\\\\chromedriver.exe')\n",
    "# get web page\n",
    "driver.get(urlpage)\n",
    "# execute script to scroll down the page\n",
    "driver.execute_script(\"window.scrollTo(0, document.body.scrollHeight);var lenOfPage=document.body.scrollHeight;return lenOfPage;\")\n",
    "# sleep for 30s\n",
    "time.sleep(30)\n",
    "# driver.quit()"
   ]
  },
  {
   "cell_type": "code",
   "execution_count": 4,
   "metadata": {},
   "outputs": [
    {
     "name": "stdout",
     "output_type": "stream",
     "text": [
      "Number of results 20\n",
      "Promoted Private Lodge Style Country Residence\n"
     ]
    }
   ],
   "source": [
    "# find elements by xpath\n",
    "results = driver.find_elements_by_class_name(\"listing-tile-title\")\n",
    "print('Number of results', len(results))\n",
    "print(results[0].text)"
   ]
  },
  {
   "cell_type": "code",
   "execution_count": null,
   "metadata": {},
   "outputs": [],
   "source": [
    "# create empty array to store data\n",
    "data = []\n",
    "# loop over results\n",
    "for result in results:\n",
    "    product_name = result.text\n",
    "    link = result.find_element_by_tag_name('a')\n",
    "    product_link = link.get_attribute(\"href\")\n",
    "    data.append({ \"product\" : product_name, \"link\" : product_link})\n",
    "    \n",
    "data_df = pd.DataFrame(data)\n",
    "print(data_df)"
   ]
  },
  {
   "cell_type": "code",
   "execution_count": null,
   "metadata": {},
   "outputs": [],
   "source": []
  }
 ],
 "metadata": {
  "kernelspec": {
   "display_name": "Python 3",
   "language": "python",
   "name": "python3"
  },
  "language_info": {
   "codemirror_mode": {
    "name": "ipython",
    "version": 3
   },
   "file_extension": ".py",
   "mimetype": "text/x-python",
   "name": "python",
   "nbconvert_exporter": "python",
   "pygments_lexer": "ipython3",
   "version": "3.7.3"
  }
 },
 "nbformat": 4,
 "nbformat_minor": 2
}
