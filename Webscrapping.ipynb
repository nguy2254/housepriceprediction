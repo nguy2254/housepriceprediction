{
 "cells": [
  {
   "cell_type": "code",
   "execution_count": 1,
   "metadata": {},
   "outputs": [],
   "source": [
    "# import libraries\n",
    "import urllib.request\n",
    "from bs4 import BeautifulSoup\n",
    "from selenium import webdriver\n",
    "import time\n",
    "import pandas as pd"
   ]
  },
  {
   "cell_type": "code",
   "execution_count": 5,
   "metadata": {},
   "outputs": [
    {
     "name": "stdout",
     "output_type": "stream",
     "text": [
      "https://www.realestate.co.nz/residential/sale?by=featured&lct=r35&ql=20\n"
     ]
    }
   ],
   "source": [
    "# specify the url\n",
    "urlpage = 'https://www.realestate.co.nz/residential/sale?by=featured&lct=r35&ql=20' \n",
    "print(urlpage)\n",
    "# run firefox webdriver from executable path of your choice\n",
    "driver = webdriver.Chrome(executable_path = 'C:\\\\Users\\\\User\\\\Desktop\\\\Quyen Nguyen\\\\Software\\\\chromedriver.exe')\n",
    "# get web page\n",
    "driver.get(urlpage)\n",
    "# execute script to scroll down the page\n",
    "driver.execute_script(\"window.scrollTo(0, document.body.scrollHeight);var lenOfPage=document.body.scrollHeight;return lenOfPage;\")\n",
    "# sleep for 30s\n",
    "time.sleep(30)\n",
    "# driver.quit()"
   ]
  },
  {
   "cell_type": "code",
   "execution_count": 4,
   "metadata": {},
   "outputs": [
    {
     "name": "stdout",
     "output_type": "stream",
     "text": [
      "Number of results 20\n",
      "Promoted Private Lodge Style Country Residence\n"
     ]
    }
   ],
   "source": [
    "# find elements by xpath\n",
    "results = driver.find_elements_by_class_name(\"listing-tile-title\")\n",
    "print('Number of results', len(results))\n",
    "print(results[0].text)"
   ]
  },
  {
   "cell_type": "code",
   "execution_count": 6,
   "metadata": {},
   "outputs": [
    {
     "name": "stdout",
     "output_type": "stream",
     "text": [
      "                                    link  \\\n",
      "0   https://www.realestate.co.nz/3623253   \n",
      "1   https://www.realestate.co.nz/3622885   \n",
      "2   https://www.realestate.co.nz/3623105   \n",
      "3   https://www.realestate.co.nz/3623583   \n",
      "4   https://www.realestate.co.nz/3623577   \n",
      "5   https://www.realestate.co.nz/3623713   \n",
      "6   https://www.realestate.co.nz/3624449   \n",
      "7   https://www.realestate.co.nz/3623077   \n",
      "8   https://www.realestate.co.nz/3623425   \n",
      "9   https://www.realestate.co.nz/3622179   \n",
      "10  https://www.realestate.co.nz/3620221   \n",
      "11  https://www.realestate.co.nz/3622180   \n",
      "12  https://www.realestate.co.nz/3619706   \n",
      "13  https://www.realestate.co.nz/3619150   \n",
      "14  https://www.realestate.co.nz/3624934   \n",
      "15  https://www.realestate.co.nz/3628435   \n",
      "16  https://www.realestate.co.nz/3612099   \n",
      "17  https://www.realestate.co.nz/3472158   \n",
      "18  https://www.realestate.co.nz/3617894   \n",
      "19  https://www.realestate.co.nz/3609904   \n",
      "\n",
      "                                              product  \n",
      "0      Promoted Private Lodge Style Country Residence  \n",
      "1              Promoted Takapuna Beachfront Apartment  \n",
      "2                      Promoted In a class of its own  \n",
      "3   Promoted Private Family Oasis – Minutes to Alb...  \n",
      "4        Promoted It Doesn't Get Any Better Than This  \n",
      "5                             Promoted Arron's Secret  \n",
      "6                 Promoted Northern Slopes Hidden Gem  \n",
      "7              Promoted Brand new & Walk to the Beach  \n",
      "8   Promoted Impressive Modern Home with Pigeon Mo...  \n",
      "9               Promoted Wonderful, Private Location!  \n",
      "10               Promoted Bank/Creditor Wants It Gone  \n",
      "11                              Promoted Big Is Good!  \n",
      "12  Promoted Brick & Cedar Family Home- Space for ...  \n",
      "13     Promoted Auction This Saturday! Are YOU Ready?  \n",
      "14                     Promoted A Red Beach Hideaway!  \n",
      "15               Promoted 44 Argyle Street, Herne Bay  \n",
      "16                 Promoted Family Home with Bushview  \n",
      "17  Promoted 3028m2 Clifftop in Cheltenham with Be...  \n",
      "18       Promoted 25 Fern Glen Road South, St Heliers  \n",
      "19  Promoted Mon Desir Sub Penthouse Highly Motiva...  \n"
     ]
    }
   ],
   "source": [
    "# create empty array to store data\n",
    "data = []\n",
    "# loop over results\n",
    "for result in results:\n",
    "    product_name = result.text\n",
    "    link = result.find_element_by_tag_name('a')\n",
    "    product_link = link.get_attribute(\"href\")\n",
    "    data.append({ \"product\" : product_name, \"link\" : product_link})\n",
    "    \n",
    "data_df = pd.DataFrame(data)\n",
    "print(data_df)"
   ]
  },
  {
   "cell_type": "code",
   "execution_count": null,
   "metadata": {},
   "outputs": [],
   "source": []
  }
 ],
 "metadata": {
  "kernelspec": {
   "display_name": "Python 3",
   "language": "python",
   "name": "python3"
  },
  "language_info": {
   "codemirror_mode": {
    "name": "ipython",
    "version": 3
   },
   "file_extension": ".py",
   "mimetype": "text/x-python",
   "name": "python",
   "nbconvert_exporter": "python",
   "pygments_lexer": "ipython3",
   "version": "3.7.3"
  }
 },
 "nbformat": 4,
 "nbformat_minor": 2
}
