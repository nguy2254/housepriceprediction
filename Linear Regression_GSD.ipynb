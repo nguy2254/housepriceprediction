{
 "cells": [
  {
   "cell_type": "code",
   "execution_count": 55,
   "metadata": {},
   "outputs": [],
   "source": [
    "import numpy as np\n",
    "from sklearn.datasets import load_boston\n",
    "import matplotlib.pyplot as plt\n",
    "from sklearn.datasets import load_boston\n",
    "from sklearn.model_selection import train_test_split\n",
    "from sklearn.linear_model import LinearRegression\n",
    "import pandas as pd"
   ]
  },
  {
   "cell_type": "code",
   "execution_count": 4,
   "metadata": {},
   "outputs": [
    {
     "name": "stdout",
     "output_type": "stream",
     "text": [
      "The dataset has  (506, 13)  data points\n"
     ]
    }
   ],
   "source": [
    "dataset = load_boston()\n",
    "X=dataset.data\n",
    "y=dataset.target[:,np.newaxis]\n",
    "print(\"The dataset has \", X.shape, \" data points\")"
   ]
  },
  {
   "cell_type": "code",
   "execution_count": 11,
   "metadata": {},
   "outputs": [
    {
     "name": "stdout",
     "output_type": "stream",
     "text": [
      "23132240823.734848\n"
     ]
    }
   ],
   "source": [
    "#Define cost function\n",
    "def compute_cost(X,y,params):\n",
    "    n_samples = len(y)\n",
    "    h = X @ params \n",
    "    return (1/(2*n_samples))*np.sum((h-y)**2)\n",
    "#Check cost function\n",
    "params = np.array(range(1,14,1))\n",
    "print(compute_cost(X,y,params))"
   ]
  },
  {
   "cell_type": "code",
   "execution_count": 16,
   "metadata": {},
   "outputs": [
    {
     "name": "stdout",
     "output_type": "stream",
     "text": [
      "This is cost history : [[4.02218750e+14]\n",
      " [3.94067620e+23]\n",
      " [3.86081896e+32]\n",
      " [3.78258002e+41]\n",
      " [3.70592659e+50]\n",
      " [3.63082653e+59]\n",
      " [3.55724836e+68]\n",
      " [3.48516123e+77]\n",
      " [3.41453495e+86]\n",
      " [3.34533990e+95]]\n",
      "This is params history : [[1.13947831e+43]\n",
      " [2.54701405e+43]\n",
      " [3.08678587e+43]\n",
      " [1.74806845e+41]\n",
      " [1.45344740e+42]\n",
      " [1.59486759e+43]\n",
      " [1.82213249e+44]\n",
      " [9.14859630e+42]\n",
      " [2.82399915e+43]\n",
      " [1.12663633e+45]\n",
      " [4.76516625e+43]\n",
      " [9.10312719e+44]\n",
      " [3.40548869e+43]]\n"
     ]
    }
   ],
   "source": [
    "#Define greadient descent function\n",
    "def gradient_descent(X,y,params,learning_rate,n_iters):\n",
    "    n_samples = len(y)\n",
    "    J_history = np.zeros((n_iters,1))\n",
    "    for i in range(n_iters):\n",
    "        params = params - (learning_rate/n_samples) * X.T @ (X @ params - y) \n",
    "        J_history[i] = compute_cost(X,y,params)\n",
    "    return (J_history,params)\n",
    "params = np.ones((13,1))\n",
    "print(\"This is cost history :\", gradient_descent(X,y,params,0.1,10)[0])\n",
    "print(\"This is params history :\", gradient_descent(X,y,params,0.1,10)[1])\n",
    "        "
   ]
  },
  {
   "cell_type": "code",
   "execution_count": 17,
   "metadata": {},
   "outputs": [
    {
     "name": "stdout",
     "output_type": "stream",
     "text": [
      "[3.59376071e+00 1.13636364e+01 1.11367787e+01 6.91699605e-02\n",
      " 5.54695059e-01 6.28463439e+00 6.85749012e+01 3.79504269e+00\n",
      " 9.54940711e+00 4.08237154e+02 1.84555336e+01 3.56674032e+02\n",
      " 1.26530632e+01]   [8.58828355e+00 2.32993957e+01 6.85357058e+00 2.53742935e-01\n",
      " 1.15763115e-01 7.01922514e-01 2.81210326e+01 2.10362836e+00\n",
      " 8.69865112e+00 1.68370495e+02 2.16280519e+00 9.12046075e+01\n",
      " 7.13400164e+00]   [[0.]\n",
      " [0.]\n",
      " [0.]\n",
      " [0.]\n",
      " [0.]\n",
      " [0.]\n",
      " [0.]\n",
      " [0.]\n",
      " [0.]\n",
      " [0.]\n",
      " [0.]\n",
      " [0.]\n",
      " [0.]\n",
      " [0.]]\n"
     ]
    }
   ],
   "source": [
    "#Normalise X\n",
    "n_samples = len(y)\n",
    "mu = np.mean(X,0)\n",
    "sigma=np.std(X,0)\n",
    "X= (X-mu)/sigma\n",
    "X= np.hstack((np.ones((n_samples,1)),X))\n",
    "n_features = np.size(X,1)\n",
    "params= np.zeros((n_features,1))\n",
    "print(mu, \" \", sigma, \" \", params)"
   ]
  },
  {
   "cell_type": "code",
   "execution_count": 25,
   "metadata": {},
   "outputs": [
    {
     "name": "stdout",
     "output_type": "stream",
     "text": [
      "Initial cost is:  296.0734584980237 \n",
      "\n",
      "Optimal parameters are: \n",
      " [[22.53279993]\n",
      " [-0.83241565]\n",
      " [ 0.92556198]\n",
      " [-0.17350868]\n",
      " [ 0.72718532]\n",
      " [-1.82619071]\n",
      " [ 2.78146364]\n",
      " [-0.05529233]\n",
      " [-2.96708971]\n",
      " [ 1.80477388]\n",
      " [-1.1800098 ]\n",
      " [-2.00112109]\n",
      " [ 0.86262458]\n",
      " [-3.69964276]] \n",
      "\n",
      "Final cost is:  [11.00859814]\n"
     ]
    },
    {
     "data": {
      "image/png": "[encoded data removed]",
      "text/plain": [
       "<Figure size 432x288 with 1 Axes>"
      ]
     },
     "metadata": {
      "needs_background": "light"
     },
     "output_type": "display_data"
    }
   ],
   "source": [
    "n_iters = 1500\n",
    "learning_rate = 0.01\n",
    "initial_cost = compute_cost(X,y,params)\n",
    "print(\"Initial cost is: \", initial_cost, \"\\n\")\n",
    "(J_history, optimal_params) = gradient_descent(X,y,params, learning_rate, n_iters)\n",
    "print(\"Optimal parameters are: \\n\", optimal_params,\"\\n\")\n",
    "print(\"Final cost is: \", J_history[-1])\n",
    "plt.plot(range(len(J_history)), J_history, 'r')\n",
    "plt.title(\"Convergence graph for cost function\")\n",
    "plt.xlabel(\"Number of iterations\")\n",
    "plt.ylabel(\"Cost\")\n",
    "plt.show()"
   ]
  },
  {
   "cell_type": "code",
   "execution_count": 51,
   "metadata": {},
   "outputs": [],
   "source": [
    "class OurLinearRegression():\n",
    "    def __init__(self,X,y,alpha=0.03, n_iter=1500):\n",
    "        self.alpha = alpha\n",
    "        self.n_iter= n_iter\n",
    "        self.n_samples = len(y)\n",
    "        self.n_features = np.size(X,1)\n",
    "        self.X = np.hstack((np.ones((self.n_samples,1)), (X-np.mean(X,0))/np.std(X,0)))\n",
    "        self.y = y[:,np.newaxis]\n",
    "        self.params= np.zeros((self.n_features+1,1))\n",
    "        self.coef_ = None\n",
    "        self.intercept_ = None\n",
    "    \n",
    "    def fit(self):     \n",
    "        for i in range(self.n_iter):\n",
    "            self.params = self.params - (self.alpha/self.n_samples) * \\\n",
    "            self.X.T @ (self.X @ self.params  - self.y)\n",
    "            \n",
    "            self.intercept_ = self.params[0]\n",
    "            self.coef_ = self.params[1:]\n",
    "            \n",
    "        return self\n",
    "    \n",
    "    def score(self, X= None, y=None):\n",
    "        if X is None:\n",
    "            X =self.X\n",
    "        else: \n",
    "            n_samples = np.size(X,0)\n",
    "            X= np.hstack((np.ones((n_samples,1)), (X-np.mean(X,0))/np.std(X,0)))\n",
    "        if y is None:\n",
    "            y = self.y \n",
    "        else:\n",
    "            y = y[:, np.newaxis]\n",
    "        \n",
    "        y_pred = X @ self.params\n",
    "        score = 1 - (((y-y_pred)**2).sum()/ ((y-y.mean())**2).sum())\n",
    "        return score \n",
    "    \n",
    "    def predict(self,X):\n",
    "        n_samples = np.size(X,0)\n",
    "        y = np.hstack((np.ones(n_samples,1),(X-np.mean(X,0))/np.std(X,0))) @ self.params \n",
    "        return y\n",
    "    \n",
    "    def get_params(self):\n",
    "        return self.params "
   ]
  },
  {
   "cell_type": "code",
   "execution_count": 47,
   "metadata": {},
   "outputs": [
    {
     "name": "stdout",
     "output_type": "stream",
     "text": [
      "Number of obs  354\n",
      "Number of test obs  152\n",
      "Number of y obs  354\n"
     ]
    }
   ],
   "source": [
    "dataset = load_boston()\n",
    "X = dataset.data \n",
    "y = dataset.target \n",
    "X_train, X_test, y_train, y_test = train_test_split(X,y,test_size=0.3, random_state=42)\n",
    "print(\"Number of obs \", np.size(X_train,0))\n",
    "print(\"Number of test obs \", np.size(X_test,0))\n",
    "print(\"Number of y obs \", np.size(y_train,0))"
   ]
  },
  {
   "cell_type": "code",
   "execution_count": 54,
   "metadata": {},
   "outputs": [],
   "source": [
    "our_regressor = OurLinearRegression(X_train,y_train).fit()"
   ]
  },
  {
   "cell_type": "code",
   "execution_count": 56,
   "metadata": {},
   "outputs": [],
   "source": [
    "sklearn_regressor = LinearRegression().fit(X_train,y_train)"
   ]
  },
  {
   "cell_type": "code",
   "execution_count": 58,
   "metadata": {},
   "outputs": [],
   "source": [
    "our_train_accuracy = our_regressor.score()\n",
    "sklearn_train_accuracy = sklearn_regressor.score(X_train,y_train)\n",
    "our_test_accuracy = our_regressor.score(X_test,y_test)\n",
    "sklearn_test_accuracy = sklearn_regressor.score(X_test,y_test)"
   ]
  },
  {
   "cell_type": "code",
   "execution_count": 60,
   "metadata": {},
   "outputs": [
    {
     "name": "stdout",
     "output_type": "stream",
     "text": [
      "                   Our Implementation  Sklearn's Implementation\n",
      "Training Accuracy            0.743485                  0.743502\n",
      "Test Accuracy                0.675179                  0.710920\n"
     ]
    }
   ],
   "source": [
    "print(pd.DataFrame([[our_train_accuracy, sklearn_train_accuracy],[our_test_accuracy, sklearn_test_accuracy] ],   ['Training Accuracy', 'Test Accuracy'],    \n",
    "             ['Our Implementation', 'Sklearn\\'s Implementation']))"
   ]
  },
  {
   "cell_type": "code",
   "execution_count": null,
   "metadata": {},
   "outputs": [],
   "source": []
  }
 ],
 "metadata": {
  "kernelspec": {
   "display_name": "Python 3",
   "language": "python",
   "name": "python3"
  },
  "language_info": {
   "codemirror_mode": {
    "name": "ipython",
    "version": 3
   },
   "file_extension": ".py",
   "mimetype": "text/x-python",
   "name": "python",
   "nbconvert_exporter": "python",
   "pygments_lexer": "ipython3",
   "version": "3.7.0"
  }
 },
 "nbformat": 4,
 "nbformat_minor": 2
}
